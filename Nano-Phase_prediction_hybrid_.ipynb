{
  "nbformat": 4,
  "nbformat_minor": 0,
  "metadata": {
    "colab": {
      "provenance": []
    },
    "kernelspec": {
      "name": "python3",
      "display_name": "Python 3"
    },
    "language_info": {
      "name": "python"
    }
  },
  "cells": [
    {
      "cell_type": "code",
      "execution_count": null,
      "metadata": {
        "id": "LUseHVDjExNE"
      },
      "outputs": [],
      "source": [
        "import numpy as np\n",
        "import tensorflow as tf\n",
        "from sklearn import svm\n",
        "from sklearn.metrics import accuracy_score\n",
        "\n",
        "# Define the CNN model\n",
        "def create_cnn_model(input_shape, num_classes):\n",
        "    model = tf.keras.Sequential([\n",
        "        tf.keras.layers.Conv2D(32, kernel_size=(3, 3), activation='relu', input_shape=input_shape),\n",
        "        tf.keras.layers.MaxPooling2D(pool_size=(2, 2)),\n",
        "        tf.keras.layers.Conv2D(64, kernel_size=(3, 3), activation='relu'),\n",
        "        tf.keras.layers.MaxPooling2D(pool_size=(2, 2)),\n",
        "        tf.keras.layers.Flatten(),\n",
        "        tf.keras.layers.Dense(128, activation='relu'),\n",
        "        tf.keras.layers.Dense(num_classes, activation='softmax')\n",
        "    ])\n",
        "    return model\n",
        "\n",
        "# Load the data\n",

        "    X_train = np.random.rand(1000, 28, 28, 1) \n",
        "    y_train = np.random.randint(0, 3, size=(1000)) \n",
        "    X_test = np.random.rand(300, 28, 28, 1)\n",
        "    y_test = np.random.randint(0, 3, size=(300))\n",
        "    return X_train, y_train, X_test, y_test\n",
        "\n",
        "# Train CNN model\n",
        "def train_cnn_model(X_train, y_train, input_shape, num_classes):\n",
        "    model = create_cnn_model(input_shape, num_classes)\n",
        "    model.compile(optimizer='adam', loss='sparse_categorical_crossentropy', metrics=['accuracy'])\n",
        "    model.fit(X_train, y_train, epochs=5, batch_size=32, validation_split=0.1)\n",
        "    return model\n",
        "\n",
        "# Extract features using CNN\n",
        "def extract_cnn_features(model, X):\n",
        "    return model.predict(X)\n",
        "\n",
        "# Train SVM model\n",
        "def train_svm_model(X_train_features, y_train):\n",
        "    svm_classifier = svm.SVC(kernel='linear')\n",
        "    svm_classifier.fit(X_train_features, y_train)\n",
        "    return svm_classifier\n",
        "\n",
        "# Main function\n",
        "def main():\n",
        "    \n",
        "    X_train, y_train, X_test, y_test = data()\n",
        "\n",
        "    # Define input shape and number of classes\n",
        "    input_shape = X_train.shape[1:]\n",
        "    num_classes = len(np.unique(y_train))\n",
        "\n",
        "    # Train CNN model\n",
        "    cnn_model = train_cnn_model(X_train, y_train, input_shape, num_classes)\n",
        "\n",
        "    # Extract features using CNN\n",
        "    X_train_features = extract_cnn_features(cnn_model, X_train)\n",
        "    X_test_features = extract_cnn_features(cnn_model, X_test)\n",
        "\n",
        "    # Train SVM model\n",
        "    svm_classifier = train_svm_model(X_train_features, y_train)\n",
        "\n",
        "    # Evaluate SVM model\n",
        "    y_pred = svm_classifier.predict(X_test_features)\n",
        "    accuracy = accuracy_score(y_test, y_pred)\n",
        "    print(\"Accuracy:\", accuracy)\n"
      ]
    }
  ]
}
